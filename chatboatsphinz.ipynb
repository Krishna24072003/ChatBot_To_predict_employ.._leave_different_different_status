{
 "cells": [
  {
   "cell_type": "code",
   "execution_count": 1,
   "metadata": {},
   "outputs": [],
   "source": [
    "from langchain_community.llms import Ollama\n",
    "from langchain.memory import ConversationBufferMemory\n",
    "import os\n",
    "from dotenv import load_dotenv\n",
    "import langchain\n",
    "# from langchain.llms import LLaMA\n",
    "from langchain.chains import ConversationChain\n",
    "from langchain.embeddings import OpenAIEmbeddings\n",
    "from langchain.vectorstores import Chroma\n",
    "from langchain.document_loaders import TextLoader\n",
    "from langchain.text_splitter import CharacterTextSplitter\n",
    "\n",
    "from langchain_community.llms import Ollama\n",
    "import streamlit as st\n",
    "from langchain_core.prompts import ChatPromptTemplate\n",
    "from langchain_core.output_parsers import StrOutputParser\n",
    "\n",
    "load_dotenv()\n",
    "\n",
    "## Langsmith Tracking\n",
    "os.environ[\"LANGCHAIN_API_KEY\"]=os.getenv(\"LANGCHAIN_API_KEY\")\n",
    "os.environ[\"LANGCHAIN_TRACING_V2\"]=\"true\"\n",
    "os.environ[\"LANGCHAIN_PROJECT\"]=os.getenv(\"LANGCHAIN_PROJECT\")"
   ]
  },
  {
   "cell_type": "code",
   "execution_count": 2,
   "metadata": {},
   "outputs": [],
   "source": [
    "loader=TextLoader('generated_conversations.txt')"
   ]
  },
  {
   "cell_type": "code",
   "execution_count": 3,
   "metadata": {},
   "outputs": [
    {
     "data": {
      "text/plain": [
       "<langchain_community.document_loaders.text.TextLoader at 0x11029d540>"
      ]
     },
     "execution_count": 3,
     "metadata": {},
     "output_type": "execute_result"
    }
   ],
   "source": [
    "loader"
   ]
  },
  {
   "cell_type": "code",
   "execution_count": 4,
   "metadata": {},
   "outputs": [],
   "source": [
    "# To convert loader into text function/document function  we use load() function\n",
    "text_documents=loader.load()"
   ]
  },
  {
   "cell_type": "code",
   "execution_count": 5,
   "metadata": {},
   "outputs": [
    {
     "name": "stderr",
     "output_type": "stream",
     "text": [
      "Created a chunk of size 261, which is longer than the specified 260\n",
      "Created a chunk of size 261, which is longer than the specified 260\n",
      "Created a chunk of size 264, which is longer than the specified 260\n",
      "Created a chunk of size 264, which is longer than the specified 260\n",
      "Created a chunk of size 261, which is longer than the specified 260\n",
      "Created a chunk of size 262, which is longer than the specified 260\n",
      "Created a chunk of size 262, which is longer than the specified 260\n",
      "Created a chunk of size 264, which is longer than the specified 260\n",
      "Created a chunk of size 263, which is longer than the specified 260\n",
      "Created a chunk of size 262, which is longer than the specified 260\n",
      "Created a chunk of size 263, which is longer than the specified 260\n",
      "Created a chunk of size 263, which is longer than the specified 260\n",
      "Created a chunk of size 264, which is longer than the specified 260\n",
      "Created a chunk of size 261, which is longer than the specified 260\n",
      "Created a chunk of size 263, which is longer than the specified 260\n"
     ]
    }
   ],
   "source": [
    "from langchain_text_splitters import CharacterTextSplitter\n",
    "text_splitter=CharacterTextSplitter(separator=\"\\n\\n\",chunk_size=260,chunk_overlap=20)\n",
    "pks=text_splitter.split_documents(text_documents)"
   ]
  },
  {
   "cell_type": "code",
   "execution_count": 6,
   "metadata": {},
   "outputs": [],
   "source": [
    "speech=\"\"\n",
    "with open(\"generated_conversations.txt\") as f:\n",
    "    speech=f.read()\n",
    "text_splitter=CharacterTextSplitter(chunk_size=300,chunk_overlap=20)\n",
    "text=text_splitter.create_documents([speech])"
   ]
  },
  {
   "cell_type": "code",
   "execution_count": 7,
   "metadata": {},
   "outputs": [
    {
     "name": "stdout",
     "output_type": "stream",
     "text": [
      "page_content='User: I would like to apply for maternity leave\n",
      "AIChatbot: which type of leave?\n",
      "User: annual leave\n",
      "AIChatbot: how many days and date?\n",
      "User: 2 days from 10-OCT-2024\n",
      "AIChatbot: Thanks for the information, you can follow the link https://sphinx.shrmpro.com/'\n"
     ]
    }
   ],
   "source": [
    "print(text[0])\n",
    "#print(text[1])"
   ]
  },
  {
   "cell_type": "code",
   "execution_count": 8,
   "metadata": {},
   "outputs": [
    {
     "name": "stdout",
     "output_type": "stream",
     "text": [
      "page_content='User: I need to go on leave\n",
      "AIChatbot: which type of leave?\n",
      "User: bereavement leave\n",
      "AIChatbot: how many days and date?\n",
      "User: 4 days starting 15-NOV-2024\n",
      "AIChatbot: Thanks for the information, you can follow the link https://sphinx.shrmpro.com/'\n"
     ]
    }
   ],
   "source": [
    "\n",
    "print(text[1])"
   ]
  },
  {
   "cell_type": "code",
   "execution_count": 9,
   "metadata": {},
   "outputs": [
    {
     "data": {
      "text/plain": [
       "1500"
      ]
     },
     "execution_count": 9,
     "metadata": {},
     "output_type": "execute_result"
    }
   ],
   "source": [
    "len(text)"
   ]
  },
  {
   "cell_type": "code",
   "execution_count": 10,
   "metadata": {},
   "outputs": [
    {
     "data": {
      "text/plain": [
       "list"
      ]
     },
     "execution_count": 10,
     "metadata": {},
     "output_type": "execute_result"
    }
   ],
   "source": [
    "type(text)"
   ]
  },
  {
   "cell_type": "code",
   "execution_count": 11,
   "metadata": {},
   "outputs": [
    {
     "data": {
      "text/plain": [
       "langchain_core.documents.base.Document"
      ]
     },
     "execution_count": 11,
     "metadata": {},
     "output_type": "execute_result"
    }
   ],
   "source": [
    "type(text[0])"
   ]
  },
  {
   "cell_type": "code",
   "execution_count": 12,
   "metadata": {},
   "outputs": [],
   "source": [
    "from langchain_community.embeddings import OllamaEmbeddings"
   ]
  },
  {
   "cell_type": "code",
   "execution_count": 13,
   "metadata": {},
   "outputs": [
    {
     "name": "stderr",
     "output_type": "stream",
     "text": [
      "/var/folders/jp/52lg7vhx5xqc9l1fx_d3rk300000gn/T/ipykernel_27621/1904063905.py:2: LangChainDeprecationWarning: The class `OllamaEmbeddings` was deprecated in LangChain 0.3.1 and will be removed in 1.0.0. An updated version of the class exists in the :class:`~langchain-ollama package and should be used instead. To use it run `pip install -U :class:`~langchain-ollama` and import as `from :class:`~langchain_ollama import OllamaEmbeddings``.\n",
      "  OllamaEmbeddings(model=\"llama3.1\")  ##by default it ues llama2\n"
     ]
    }
   ],
   "source": [
    "embeddings=(\n",
    "    OllamaEmbeddings(model=\"llama3.1\")  ##by default it ues llama2\n",
    ")"
   ]
  },
  {
   "cell_type": "code",
   "execution_count": 14,
   "metadata": {},
   "outputs": [],
   "source": [
    "# vectorstore = create_embeddings_in_batches(text, embeddings)"
   ]
  },
  {
   "cell_type": "code",
   "execution_count": 15,
   "metadata": {},
   "outputs": [],
   "source": [
    "# vectorstore=Chroma.from_documents(documents=pks,embedding=embeddings)\n",
    "# retriever=vectorstore.as_retriever()\n",
    "# retriever"
   ]
  },
  {
   "cell_type": "code",
   "execution_count": 16,
   "metadata": {},
   "outputs": [
    {
     "data": {
      "text/plain": [
       "<langchain_community.vectorstores.faiss.FAISS at 0x169d5beb0>"
      ]
     },
     "execution_count": 16,
     "metadata": {},
     "output_type": "execute_result"
    }
   ],
   "source": [
    "from langchain_community.vectorstores import FAISS\n",
    "embeddings=OllamaEmbeddings(model=\"llama3.1\")\n",
    "db=FAISS.from_documents(text[0:800],embeddings)\n",
    "db"
   ]
  },
  {
   "cell_type": "code",
   "execution_count": 17,
   "metadata": {},
   "outputs": [
    {
     "data": {
      "text/plain": [
       "langchain_community.vectorstores.faiss.FAISS"
      ]
     },
     "execution_count": 17,
     "metadata": {},
     "output_type": "execute_result"
    }
   ],
   "source": [
    "type(db)"
   ]
  },
  {
   "cell_type": "code",
   "execution_count": 18,
   "metadata": {},
   "outputs": [
    {
     "data": {
      "text/plain": [
       "[Document(metadata={}, page_content='User: I want to submit a leave request\\nAIChatbot: which type of leave?\\nUser: maternity leave\\nAIChatbot: how many days and date?\\nUser: 3 days from 15-OCT-2024\\nAIChatbot: Thanks for the information, you can follow the link https://sphinx.shrmpro.com/'),\n",
       " Document(metadata={}, page_content='User: I want to submit a leave request\\nAIChatbot: which type of leave?\\nUser: maternity leave\\nAIChatbot: how many days and date?\\nUser: 3 days from 15-OCT-2024\\nAIChatbot: Thanks for the information, you can follow the link https://sphinx.shrmpro.com/'),\n",
       " Document(metadata={}, page_content='User: I am planning to go on holiday\\nAIChatbot: which type of leave?\\nUser: study leave\\nAIChatbot: how many days and date?\\nUser: 1 day on 08-OCT-2024\\nAIChatbot: Thanks for the information, you can follow the link https://sphinx.shrmpro.com/'),\n",
       " Document(metadata={}, page_content='User: I want to submit a leave request\\nAIChatbot: which type of leave?\\nUser: maternity leave\\nAIChatbot: how many days and date?\\nUser: 2 days from 10-OCT-2024\\nAIChatbot: Thanks for the information, you can follow the link https://sphinx.shrmpro.com/')]"
      ]
     },
     "execution_count": 18,
     "metadata": {},
     "output_type": "execute_result"
    }
   ],
   "source": [
    "### querying \n",
    "query=\"whats your plan\"\n",
    "docs=db.similarity_search(query)\n",
    "docs"
   ]
  },
  {
   "cell_type": "code",
   "execution_count": 19,
   "metadata": {},
   "outputs": [
    {
     "data": {
      "text/plain": [
       "'User: I want to submit a leave request\\nAIChatbot: which type of leave?\\nUser: maternity leave\\nAIChatbot: how many days and date?\\nUser: 3 days from 15-OCT-2024\\nAIChatbot: Thanks for the information, you can follow the link https://sphinx.shrmpro.com/'"
      ]
     },
     "execution_count": 19,
     "metadata": {},
     "output_type": "execute_result"
    }
   ],
   "source": [
    "docs[0].page_content"
   ]
  },
  {
   "cell_type": "code",
   "execution_count": 20,
   "metadata": {},
   "outputs": [
    {
     "data": {
      "text/plain": [
       "'User: I want to submit a leave request\\nAIChatbot: which type of leave?\\nUser: maternity leave\\nAIChatbot: how many days and date?\\nUser: 3 days from 15-OCT-2024\\nAIChatbot: Thanks for the information, you can follow the link https://sphinx.shrmpro.com/'"
      ]
     },
     "execution_count": 20,
     "metadata": {},
     "output_type": "execute_result"
    }
   ],
   "source": [
    "retriever=db.as_retriever()\n",
    "docs=retriever.invoke(query)\n",
    "docs[0].page_content"
   ]
  },
  {
   "cell_type": "code",
   "execution_count": 21,
   "metadata": {},
   "outputs": [
    {
     "data": {
      "text/plain": [
       "[(Document(metadata={}, page_content='User: I want to submit a leave request\\nAIChatbot: which type of leave?\\nUser: maternity leave\\nAIChatbot: how many days and date?\\nUser: 3 days from 15-OCT-2024\\nAIChatbot: Thanks for the information, you can follow the link https://sphinx.shrmpro.com/'),\n",
       "  30054.092),\n",
       " (Document(metadata={}, page_content='User: I want to submit a leave request\\nAIChatbot: which type of leave?\\nUser: maternity leave\\nAIChatbot: how many days and date?\\nUser: 3 days from 15-OCT-2024\\nAIChatbot: Thanks for the information, you can follow the link https://sphinx.shrmpro.com/'),\n",
       "  30054.092),\n",
       " (Document(metadata={}, page_content='User: I am planning to go on holiday\\nAIChatbot: which type of leave?\\nUser: study leave\\nAIChatbot: how many days and date?\\nUser: 1 day on 08-OCT-2024\\nAIChatbot: Thanks for the information, you can follow the link https://sphinx.shrmpro.com/'),\n",
       "  30076.574),\n",
       " (Document(metadata={}, page_content='User: I want to submit a leave request\\nAIChatbot: which type of leave?\\nUser: maternity leave\\nAIChatbot: how many days and date?\\nUser: 2 days from 10-OCT-2024\\nAIChatbot: Thanks for the information, you can follow the link https://sphinx.shrmpro.com/'),\n",
       "  30076.588)]"
      ]
     },
     "execution_count": 21,
     "metadata": {},
     "output_type": "execute_result"
    }
   ],
   "source": [
    "docs_and_score=db.similarity_search_with_score(query)\n",
    "docs_and_score"
   ]
  },
  {
   "cell_type": "code",
   "execution_count": 22,
   "metadata": {},
   "outputs": [],
   "source": [
    "# from langchain.llms import LLaMA"
   ]
  },
  {
   "cell_type": "code",
   "execution_count": 23,
   "metadata": {},
   "outputs": [
    {
     "name": "stderr",
     "output_type": "stream",
     "text": [
      "/var/folders/jp/52lg7vhx5xqc9l1fx_d3rk300000gn/T/ipykernel_27621/1086579521.py:1: LangChainDeprecationWarning: The class `Ollama` was deprecated in LangChain 0.3.1 and will be removed in 1.0.0. An updated version of the class exists in the :class:`~langchain-ollama package and should be used instead. To use it run `pip install -U :class:`~langchain-ollama` and import as `from :class:`~langchain_ollama import OllamaLLM``.\n",
      "  llm_model=Ollama(model=\"llama3.1\")\n"
     ]
    }
   ],
   "source": [
    "llm_model=Ollama(model=\"llama3.1\")"
   ]
  },
  {
   "cell_type": "code",
   "execution_count": 31,
   "metadata": {},
   "outputs": [],
   "source": [
    "# # Define the prompt template\n",
    "# from langchain.prompts import PromptTemplate\n",
    "# from langchain.chains import ConversationChain\n",
    "# from langchain.memory import ConversationBufferMemory\n",
    "# prompt_template = PromptTemplate(\n",
    "#     input_variables=[\"user_input\"],  # Define any input variables\n",
    "#     template=\"Respond as a leave bot assistant. User said: {user_input}\"\n",
    "# )"
   ]
  },
  {
   "cell_type": "code",
   "execution_count": 25,
   "metadata": {},
   "outputs": [
    {
     "name": "stderr",
     "output_type": "stream",
     "text": [
      "/var/folders/jp/52lg7vhx5xqc9l1fx_d3rk300000gn/T/ipykernel_27621/995385594.py:1: LangChainDeprecationWarning: Please see the migration guide at: https://python.langchain.com/docs/versions/migrating_memory/\n",
      "  memory = ConversationBufferMemory()\n"
     ]
    }
   ],
   "source": [
    "# memory = ConversationBufferMemory()"
   ]
  },
  {
   "cell_type": "code",
   "execution_count": 32,
   "metadata": {},
   "outputs": [],
   "source": [
    "# conversation_chain = ConversationChain(\n",
    "#     llm=llm_model,\n",
    "#     prompt=prompt_template,\n",
    "#     memory=memory  # Include the memory component\n",
    "# )"
   ]
  },
  {
   "cell_type": "code",
   "execution_count": 36,
   "metadata": {},
   "outputs": [],
   "source": [
    "\n",
    "def sphinx_chat_bot(vector_store):\n",
    "    print(\"Welcome to sphinx_chat_bot!\")\n",
    "    \n",
    "    context = {}\n",
    "\n",
    "    while True:\n",
    "        user_input = input(\"User: \")\n",
    "        if user_input.lower() in [\"exit\", \"quit\"]:\n",
    "            print(\"sphinx_chat_bot: Thank you for using thesphinx bot. Goodbye!\")\n",
    "            break \n",
    "        print(user_input)\n",
    "        \n",
    "        # Find relevant responses based on user input using similarity_search\n",
    "        relevant_responses = vector_store.similarity_search(user_input)\n",
    "\n",
    "        if relevant_responses:\n",
    "            # Choose the best response means first rows\n",
    "            response = relevant_responses[0].page_content  # Get the best match\n",
    "            print(\"sphinx_chat_bot:\", response)\n",
    "            \n",
    "            # Handle conversation flow manually \n",
    "            if \"What type of leave would you like to apply for?\" in response:\n",
    "                leave_type = input(\"User: \")\n",
    "                print(leave_type)\n",
    "                context[\"leave_type\"] = leave_type\n",
    "                \n",
    "            elif \"How many days of leave would you like to take\" in response:\n",
    "                days_input = input(\"User: \")\n",
    "                print(\"days input:\",days_input)\n",
    "                context[\"days\"] = days_input\n",
    "                \n",
    "                # Additional prompt for final confirmation\n",
    "                final_response = f\"Thank you for providing the details! You've applied for {context.get('leave_type')} for {context.get('days')} days. You can submit your request at the following link: http://hrms.sphinworldbiz.com\"\n",
    "                print(\"sphinx_chat_bot:\", final_response)\n",
    "                break  # Exit after final response\n",
    "\n",
    "            # If user asks for other information\n",
    "            elif \"How can I assist you today?\" in response:\n",
    "                print(\"sphinx_chat_bot: If you have any questions about your leave or need assistance, feel free to ask.\")\n",
    "        else:\n",
    "            print(\"sphinx_chat_bot: I'm sorry, I couldn't find an appropriate response.\")\n"
   ]
  },
  {
   "cell_type": "code",
   "execution_count": 2,
   "metadata": {},
   "outputs": [
    {
     "name": "stdout",
     "output_type": "stream",
     "text": [
      "Welcome to sphinx_chat_bot!\n",
      "\n",
      "sphinx_chat_bot: User: I need to request a day off\n",
      "AIChatbot: which type of leave?\n",
      "User: personal leave\n",
      "AIChatbot: how many days and date?\n",
      "User: 1 day on 08-OCT-2024\n",
      "AIChatbot: Thanks for the information, you can follow the link https://sphinx.shrmpro.com/\n",
      "\"I want a leave\"\n",
      "sphinx_chat_bot: User: I want to submit a leave request\n",
      "AIChatbot: which type of leave?\n",
      "User: holiday leave\n",
      "AIChatbot: how many days and date?\n",
      "User: 1 day on 01-NOV-2024\n",
      "AIChatbot: Thanks for the information, you can follow the link https://sphinx.shrmpro.com/\n",
      "\"i want a day off\"\n",
      "sphinx_chat_bot: User: I am planning to go on holiday\n",
      "AIChatbot: which type of leave?\n",
      "User: sick leave\n",
      "AIChatbot: how many days and date?\n",
      "User: 4 days starting 20-OCT-2024\n",
      "AIChatbot: Thanks for the information, you can follow the link https://sphinx.shrmpro.com/\n",
      "4\n",
      "sphinx_chat_bot: User: I want to submit a leave request\n",
      "AIChatbot: which type of leave?\n",
      "User: maternity leave\n",
      "AIChatbot: how many days and date?\n",
      "User: 2 days from 10-OCT-2024\n",
      "AIChatbot: Thanks for the information, you can follow the link https://sphinx.shrmpro.com/\n",
      "2\n",
      "sphinx_chat_bot: User: I want to submit a leave request\n",
      "AIChatbot: which type of leave?\n",
      "User: maternity leave\n",
      "AIChatbot: how many days and date?\n",
      "User: 2 days from 10-OCT-2024\n",
      "AIChatbot: Thanks for the information, you can follow the link https://sphinx.shrmpro.com/\n",
      "1\n",
      "sphinx_chat_bot: User: I need to request a day off\n",
      "AIChatbot: which type of leave?\n",
      "User: personal leave\n",
      "AIChatbot: how many days and date?\n",
      "User: 1 day on 08-OCT-2024\n",
      "AIChatbot: Thanks for the information, you can follow the link https://sphinx.shrmpro.com/\n",
      "1\n",
      "sphinx_chat_bot: User: I need to request a day off\n",
      "AIChatbot: which type of leave?\n",
      "User: personal leave\n",
      "AIChatbot: how many days and date?\n",
      "User: 1 day on 08-OCT-2024\n",
      "AIChatbot: Thanks for the information, you can follow the link https://sphinx.shrmpro.com/\n"
     ]
    }
   ],
   "source": [
    "sphinx_chat_bot(db)#days as input"
   ]
  },
  {
   "cell_type": "code",
   "execution_count": null,
   "metadata": {},
   "outputs": [],
   "source": []
  },
  {
   "cell_type": "code",
   "execution_count": null,
   "metadata": {},
   "outputs": [],
   "source": []
  },
  {
   "cell_type": "code",
   "execution_count": null,
   "metadata": {},
   "outputs": [],
   "source": []
  },
  {
   "cell_type": "code",
   "execution_count": null,
   "metadata": {},
   "outputs": [],
   "source": []
  }
 ],
 "metadata": {
  "kernelspec": {
   "display_name": "Python 3",
   "language": "python",
   "name": "python3"
  },
  "language_info": {
   "codemirror_mode": {
    "name": "ipython",
    "version": 3
   },
   "file_extension": ".py",
   "mimetype": "text/x-python",
   "name": "python",
   "nbconvert_exporter": "python",
   "pygments_lexer": "ipython3",
   "version": "3.10.0"
  }
 },
 "nbformat": 4,
 "nbformat_minor": 2
}
